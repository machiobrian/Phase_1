{
 "cells": [
  {
   "cell_type": "code",
   "execution_count": 1,
   "metadata": {},
   "outputs": [],
   "source": [
    "import cv2 as cv\n",
    "import numpy as np\n",
    "import matplotlib.pyplot as plt"
   ]
  },
  {
   "cell_type": "code",
   "execution_count": 2,
   "metadata": {},
   "outputs": [],
   "source": [
    "image = cv.imread(\"line.jpg\")\n",
    "assert image is not None, \"unable to read file\""
   ]
  },
  {
   "cell_type": "code",
   "execution_count": 3,
   "metadata": {},
   "outputs": [],
   "source": [
    "resized = cv.resize(image, (320,240))\n",
    "gray = cv.cvtColor(resized, cv.COLOR_BGR2GRAY)\n",
    "\n",
    "#convert the image into an int32\n",
    "row = gray[180].astype(np.int32)\n",
    "#print(row)"
   ]
  },
  {
   "cell_type": "code",
   "execution_count": 4,
   "metadata": {},
   "outputs": [],
   "source": [
    "#get a list of differences from every pixel of this row\n",
    "diff = np.diff(row)\n",
    "#print(diff)"
   ]
  },
  {
   "cell_type": "markdown",
   "metadata": {},
   "source": [
    "Plotting the diff list"
   ]
  },
  {
   "cell_type": "code",
   "execution_count": 5,
   "metadata": {},
   "outputs": [
    {
     "data": {
      "image/png": "[encoded data removed]",
      "text/plain": [
       "<Figure size 432x288 with 1 Axes>"
      ]
     },
     "metadata": {
      "needs_background": "light"
     },
     "output_type": "display_data"
    }
   ],
   "source": [
    "#since we are using the x axis\n",
    "\n",
    "x = np.arange(len(diff))\n",
    "plt.plot(x, diff) #this is a none blurred image\n",
    "plt.savefig('NO BLUR') #the noise is visible\n"
   ]
  },
  {
   "cell_type": "code",
   "execution_count": 6,
   "metadata": {},
   "outputs": [],
   "source": [
    "gray = cv.cvtColor(resized, cv.COLOR_BGR2GRAY)\n",
    "blurred = cv.blur(gray, (1,1))\n",
    "row = blurred[180].astype(np.int32)\n",
    "diff = np.diff(row)\n",
    "x_blurred = np.arange(len(diff))\n",
    "#plt.plot(x_blurred, diff)\n"
   ]
  },
  {
   "cell_type": "markdown",
   "metadata": {},
   "source": [
    "Locating the line from the images....\n",
    "The peaks from the image represent the edges of our line,\n",
    "to fint the middle, add the left and right peaks and divide them by two.\n"
   ]
  },
  {
   "cell_type": "code",
   "execution_count": 7,
   "metadata": {},
   "outputs": [
    {
     "name": "stdout",
     "output_type": "stream",
     "text": [
      "-39 32\n"
     ]
    }
   ],
   "source": [
    "diff = np.diff(row)\n",
    "#print(diff)\n",
    "\n",
    "max_d = np.amax(diff, 0)\n",
    "min_d = np.amin(diff, 0)\n",
    "print(min_d, max_d)"
   ]
  },
  {
   "cell_type": "markdown",
   "metadata": {},
   "source": [
    "These are values and not locations. therefore, we need to find the index of these locations."
   ]
  },
  {
   "cell_type": "code",
   "execution_count": 8,
   "metadata": {},
   "outputs": [],
   "source": [
    "highest = np.where(diff == max_d) [0] [0]\n",
    "# print(highest)\n",
    "lowest = np.where(diff == min_d)[0][0]\n",
    "# print(lowest)\n",
    "middle = (highest + lowest) // 2\n",
    "# print(middle)\n"
   ]
  },
  {
   "cell_type": "code",
   "execution_count": 9,
   "metadata": {},
   "outputs": [
    {
     "data": {
      "text/plain": [
       "[<matplotlib.lines.Line2D at 0x7f6620af0dc0>]"
      ]
     },
     "execution_count": 9,
     "metadata": {},
     "output_type": "execute_result"
    },
    {
     "data": {
      "image/png": "[encoded data removed]",
      "text/plain": [
       "<Figure size 432x288 with 1 Axes>"
      ]
     },
     "metadata": {
      "needs_background": "light"
     },
     "output_type": "display_data"
    }
   ],
   "source": [
    "plt.plot([middle, middle], [max_d, min_d], \"r-\")\n",
    "plt.plot([lowest, lowest], [max_d, min_d], 'g--')\n",
    "plt.plot([highest, highest], [max_d, min_d], 'g--')\n",
    "plt.plot(x, diff)"
   ]
  },
  {
   "cell_type": "code",
   "execution_count": null,
   "metadata": {},
   "outputs": [],
   "source": []
  }
 ],
 "metadata": {
  "kernelspec": {
   "display_name": "Python 3.10.4 64-bit",
   "language": "python",
   "name": "python3"
  },
  "language_info": {
   "codemirror_mode": {
    "name": "ipython",
    "version": 3
   },
   "file_extension": ".py",
   "mimetype": "text/x-python",
   "name": "python",
   "nbconvert_exporter": "python",
   "pygments_lexer": "ipython3",
   "version": "3.10.4"
  },
  "orig_nbformat": 4,
  "vscode": {
   "interpreter": {
    "hash": "916dbcbb3f70747c44a77c7bcd40155683ae19c65e1c03b4aa3499c5328201f1"
   }
  }
 },
 "nbformat": 4,
 "nbformat_minor": 2
}
